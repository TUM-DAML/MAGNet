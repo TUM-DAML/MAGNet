{
 "cells": [
  {
   "cell_type": "code",
   "execution_count": null,
   "metadata": {},
   "outputs": [],
   "source": [
    "from baselines.global_utils import (\n",
    "    get_all_model_funcs,\n",
    "    smiles_from_file, \n",
    "    BASELINE_DIR\n",
    ")\n",
    "from rdkit import Chem\n",
    "from rdkit.Chem import Draw\n",
    "from rdkit import DataStructs\n",
    "from rdkit.Chem import AllChem\n",
    "from rdkit.Chem import Draw\n",
    "import numpy as np\n",
    "import random\n"
   ]
  },
  {
   "cell_type": "code",
   "execution_count": null,
   "metadata": {},
   "outputs": [],
   "source": [
    "dataset = \"zinc\"\n",
    "model_name = \"JTVAE\"\n",
    "model_id = \"3bsp47ta\""
   ]
  },
  {
   "cell_type": "code",
   "execution_count": null,
   "metadata": {},
   "outputs": [],
   "source": [
    "val_smiles = smiles_from_file(BASELINE_DIR / \"smiles_files\" / \"zinc\" / \"val.txt\")"
   ]
  },
  {
   "cell_type": "code",
   "execution_count": null,
   "metadata": {},
   "outputs": [],
   "source": [
    "num_plots = 3\n",
    "\n",
    "random.shuffle(val_smiles)\n",
    "smiles_pairs = []\n",
    "for _ in range(num_plots):\n",
    "    smiles_pairs.append([val_smiles.pop(), val_smiles.pop()])"
   ]
  },
  {
   "cell_type": "code",
   "execution_count": null,
   "metadata": {},
   "outputs": [],
   "source": [
    "# prepare model and input smiles\n",
    "all_funcs = get_all_model_funcs(model_name)\n",
    "inference_server = all_funcs[\"load\"](dataset=dataset, model_id=model_id, seed=0)\n",
    "\n",
    "num_interpol = 5\n",
    "interpolation_outputs = inference_server.interpolate_between_molecules(smiles_pairs, num_interpol)\n",
    "for smiles_list in interpolation_outputs:\n",
    "    # Convert SMILES to RDKit molecules\n",
    "    molecules = [Chem.MolFromSmiles(smiles) for smiles in smiles_list]\n",
    "\n",
    "    # Calculate Tanimoto similarity\n",
    "    similarity_matrix = np.zeros((len(molecules), len(molecules)))\n",
    "    for i in range(len(molecules)):\n",
    "        for j in range(len(molecules)):\n",
    "            if i != j:\n",
    "                sim = DataStructs.TanimotoSimilarity(AllChem.GetMorganFingerprint(molecules[i], 2), AllChem.GetMorganFingerprint(molecules[j], 2))\n",
    "                similarity_matrix[i][j] = sim\n",
    "    np.fill_diagonal(similarity_matrix, 1)\n",
    "\n",
    "    # Add Tanimoto similarity labels to the molecules\n",
    "    labels = []\n",
    "    for i in range(len(smiles_list)):\n",
    "        left_sim = similarity_matrix[0][i]\n",
    "        right_sim = similarity_matrix[-1][i]\n",
    "        label = f\"Left: {left_sim:.2f}\\nRight: {right_sim:.2f}\"\n",
    "        labels.append(label)\n",
    "    print(labels)\n",
    "\n",
    "    # Create an image grid with labels\n",
    "    img = Draw.MolsToGridImage(molecules, molsPerRow=len(molecules), subImgSize=(300, 300), legends=labels, useSVG=True)\n",
    "    display(img)\n",
    "    # img_name = \"interpolation/\" + model_name + \"/\" + str(k)\n",
    "    # with open(img_name + '.svg', 'w') as f:\n",
    "    #     f.write(img.data)\n"
   ]
  }
 ],
 "metadata": {
  "kernelspec": {
   "display_name": "baselines_pyt",
   "language": "python",
   "name": "python3"
  },
  "language_info": {
   "codemirror_mode": {
    "name": "ipython",
    "version": 3
   },
   "file_extension": ".py",
   "mimetype": "text/x-python",
   "name": "python",
   "nbconvert_exporter": "python",
   "pygments_lexer": "ipython3",
   "version": "3.9.15"
  },
  "orig_nbformat": 4
 },
 "nbformat": 4,
 "nbformat_minor": 2
}
